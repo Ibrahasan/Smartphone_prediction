{
 "cells": [
  {
   "cell_type": "markdown",
   "id": "458f70cd-bae1-4253-8f30-585c80493608",
   "metadata": {},
   "source": [
    "# Importing Necessary Libraries"
   ]
  },
  {
   "cell_type": "code",
   "execution_count": 1,
   "id": "de26e68f-7647-4b4a-a269-d521af359890",
   "metadata": {},
   "outputs": [],
   "source": [
    "import pandas as pd\n",
    "import numpy as np\n",
    "\n",
    "from sklearn.model_selection import train_test_split\n",
    "from sklearn.model_selection import GridSearchCV\n",
    "from sklearn.preprocessing import StandardScaler, MinMaxScaler\n",
    "from sklearn.impute import SimpleImputer\n",
    "from sklearn.metrics import r2_score\n",
    "\n",
    "from sklearn.neighbors import KNeighborsRegressor\n",
    "\n",
    "pd.set_option(\"display.max_columns\", None)\n",
    "import warnings\n",
    "warnings.filterwarnings(\"ignore\")"
   ]
  },
  {
   "cell_type": "markdown",
   "id": "399501ab-5b8d-495a-891f-28ff082693dc",
   "metadata": {},
   "source": [
    "# Reading the Dataset"
   ]
  },
  {
   "cell_type": "code",
   "execution_count": 2,
   "id": "2dd0a0aa-6a5e-41f9-b0ce-a67b568fc920",
   "metadata": {},
   "outputs": [
    {
     "data": {
      "text/html": [
       "<div>\n",
       "<style scoped>\n",
       "    .dataframe tbody tr th:only-of-type {\n",
       "        vertical-align: middle;\n",
       "    }\n",
       "\n",
       "    .dataframe tbody tr th {\n",
       "        vertical-align: top;\n",
       "    }\n",
       "\n",
       "    .dataframe thead th {\n",
       "        text-align: right;\n",
       "    }\n",
       "</style>\n",
       "<table border=\"1\" class=\"dataframe\">\n",
       "  <thead>\n",
       "    <tr style=\"text-align: right;\">\n",
       "      <th></th>\n",
       "      <th>brand_name</th>\n",
       "      <th>model</th>\n",
       "      <th>price</th>\n",
       "      <th>rating</th>\n",
       "      <th>has_5g</th>\n",
       "      <th>has_nfc</th>\n",
       "      <th>has_ir_blaster</th>\n",
       "      <th>processor_brand</th>\n",
       "      <th>num_cores</th>\n",
       "      <th>processor_speed</th>\n",
       "      <th>battery_capacity</th>\n",
       "      <th>fast_charging_available</th>\n",
       "      <th>fast_charging</th>\n",
       "      <th>ram_capacity</th>\n",
       "      <th>internal_memory</th>\n",
       "      <th>screen_size</th>\n",
       "      <th>refresh_rate</th>\n",
       "      <th>num_rear_cameras</th>\n",
       "      <th>num_front_cameras</th>\n",
       "      <th>os</th>\n",
       "      <th>primary_camera_rear</th>\n",
       "      <th>primary_camera_front</th>\n",
       "      <th>extended_memory_available</th>\n",
       "      <th>extended_upto</th>\n",
       "      <th>resolution_width</th>\n",
       "      <th>resolution_height</th>\n",
       "    </tr>\n",
       "  </thead>\n",
       "  <tbody>\n",
       "    <tr>\n",
       "      <th>0</th>\n",
       "      <td>oneplus</td>\n",
       "      <td>OnePlus 11 5G</td>\n",
       "      <td>54999</td>\n",
       "      <td>89.0</td>\n",
       "      <td>True</td>\n",
       "      <td>True</td>\n",
       "      <td>False</td>\n",
       "      <td>snapdragon</td>\n",
       "      <td>8.0</td>\n",
       "      <td>3.2</td>\n",
       "      <td>5000.0</td>\n",
       "      <td>1</td>\n",
       "      <td>100.0</td>\n",
       "      <td>12.0</td>\n",
       "      <td>256.0</td>\n",
       "      <td>6.70</td>\n",
       "      <td>120</td>\n",
       "      <td>3</td>\n",
       "      <td>1.0</td>\n",
       "      <td>android</td>\n",
       "      <td>50.0</td>\n",
       "      <td>16.0</td>\n",
       "      <td>0</td>\n",
       "      <td>NaN</td>\n",
       "      <td>1440</td>\n",
       "      <td>3216</td>\n",
       "    </tr>\n",
       "    <tr>\n",
       "      <th>1</th>\n",
       "      <td>oneplus</td>\n",
       "      <td>OnePlus Nord CE 2 Lite 5G</td>\n",
       "      <td>19989</td>\n",
       "      <td>81.0</td>\n",
       "      <td>True</td>\n",
       "      <td>False</td>\n",
       "      <td>False</td>\n",
       "      <td>snapdragon</td>\n",
       "      <td>8.0</td>\n",
       "      <td>2.2</td>\n",
       "      <td>5000.0</td>\n",
       "      <td>1</td>\n",
       "      <td>33.0</td>\n",
       "      <td>6.0</td>\n",
       "      <td>128.0</td>\n",
       "      <td>6.59</td>\n",
       "      <td>120</td>\n",
       "      <td>3</td>\n",
       "      <td>1.0</td>\n",
       "      <td>android</td>\n",
       "      <td>64.0</td>\n",
       "      <td>16.0</td>\n",
       "      <td>1</td>\n",
       "      <td>1024.0</td>\n",
       "      <td>1080</td>\n",
       "      <td>2412</td>\n",
       "    </tr>\n",
       "    <tr>\n",
       "      <th>2</th>\n",
       "      <td>samsung</td>\n",
       "      <td>Samsung Galaxy A14 5G</td>\n",
       "      <td>16499</td>\n",
       "      <td>75.0</td>\n",
       "      <td>True</td>\n",
       "      <td>False</td>\n",
       "      <td>False</td>\n",
       "      <td>exynos</td>\n",
       "      <td>8.0</td>\n",
       "      <td>2.4</td>\n",
       "      <td>5000.0</td>\n",
       "      <td>1</td>\n",
       "      <td>15.0</td>\n",
       "      <td>4.0</td>\n",
       "      <td>64.0</td>\n",
       "      <td>6.60</td>\n",
       "      <td>90</td>\n",
       "      <td>3</td>\n",
       "      <td>1.0</td>\n",
       "      <td>android</td>\n",
       "      <td>50.0</td>\n",
       "      <td>13.0</td>\n",
       "      <td>1</td>\n",
       "      <td>1024.0</td>\n",
       "      <td>1080</td>\n",
       "      <td>2408</td>\n",
       "    </tr>\n",
       "    <tr>\n",
       "      <th>3</th>\n",
       "      <td>motorola</td>\n",
       "      <td>Motorola Moto G62 5G</td>\n",
       "      <td>14999</td>\n",
       "      <td>81.0</td>\n",
       "      <td>True</td>\n",
       "      <td>False</td>\n",
       "      <td>False</td>\n",
       "      <td>snapdragon</td>\n",
       "      <td>8.0</td>\n",
       "      <td>2.2</td>\n",
       "      <td>5000.0</td>\n",
       "      <td>1</td>\n",
       "      <td>NaN</td>\n",
       "      <td>6.0</td>\n",
       "      <td>128.0</td>\n",
       "      <td>6.55</td>\n",
       "      <td>120</td>\n",
       "      <td>3</td>\n",
       "      <td>1.0</td>\n",
       "      <td>android</td>\n",
       "      <td>50.0</td>\n",
       "      <td>16.0</td>\n",
       "      <td>1</td>\n",
       "      <td>1024.0</td>\n",
       "      <td>1080</td>\n",
       "      <td>2400</td>\n",
       "    </tr>\n",
       "    <tr>\n",
       "      <th>4</th>\n",
       "      <td>realme</td>\n",
       "      <td>Realme 10 Pro Plus</td>\n",
       "      <td>24999</td>\n",
       "      <td>82.0</td>\n",
       "      <td>True</td>\n",
       "      <td>False</td>\n",
       "      <td>False</td>\n",
       "      <td>dimensity</td>\n",
       "      <td>8.0</td>\n",
       "      <td>2.6</td>\n",
       "      <td>5000.0</td>\n",
       "      <td>1</td>\n",
       "      <td>67.0</td>\n",
       "      <td>6.0</td>\n",
       "      <td>128.0</td>\n",
       "      <td>6.70</td>\n",
       "      <td>120</td>\n",
       "      <td>3</td>\n",
       "      <td>1.0</td>\n",
       "      <td>android</td>\n",
       "      <td>108.0</td>\n",
       "      <td>16.0</td>\n",
       "      <td>0</td>\n",
       "      <td>NaN</td>\n",
       "      <td>1080</td>\n",
       "      <td>2412</td>\n",
       "    </tr>\n",
       "  </tbody>\n",
       "</table>\n",
       "</div>"
      ],
      "text/plain": [
       "  brand_name                      model  price  rating  has_5g  has_nfc  \\\n",
       "0    oneplus              OnePlus 11 5G  54999    89.0    True     True   \n",
       "1    oneplus  OnePlus Nord CE 2 Lite 5G  19989    81.0    True    False   \n",
       "2    samsung      Samsung Galaxy A14 5G  16499    75.0    True    False   \n",
       "3   motorola       Motorola Moto G62 5G  14999    81.0    True    False   \n",
       "4     realme         Realme 10 Pro Plus  24999    82.0    True    False   \n",
       "\n",
       "   has_ir_blaster processor_brand  num_cores  processor_speed  \\\n",
       "0           False      snapdragon        8.0              3.2   \n",
       "1           False      snapdragon        8.0              2.2   \n",
       "2           False          exynos        8.0              2.4   \n",
       "3           False      snapdragon        8.0              2.2   \n",
       "4           False       dimensity        8.0              2.6   \n",
       "\n",
       "   battery_capacity  fast_charging_available  fast_charging  ram_capacity  \\\n",
       "0            5000.0                        1          100.0          12.0   \n",
       "1            5000.0                        1           33.0           6.0   \n",
       "2            5000.0                        1           15.0           4.0   \n",
       "3            5000.0                        1            NaN           6.0   \n",
       "4            5000.0                        1           67.0           6.0   \n",
       "\n",
       "   internal_memory  screen_size  refresh_rate  num_rear_cameras  \\\n",
       "0            256.0         6.70           120                 3   \n",
       "1            128.0         6.59           120                 3   \n",
       "2             64.0         6.60            90                 3   \n",
       "3            128.0         6.55           120                 3   \n",
       "4            128.0         6.70           120                 3   \n",
       "\n",
       "   num_front_cameras       os  primary_camera_rear  primary_camera_front  \\\n",
       "0                1.0  android                 50.0                  16.0   \n",
       "1                1.0  android                 64.0                  16.0   \n",
       "2                1.0  android                 50.0                  13.0   \n",
       "3                1.0  android                 50.0                  16.0   \n",
       "4                1.0  android                108.0                  16.0   \n",
       "\n",
       "   extended_memory_available  extended_upto  resolution_width  \\\n",
       "0                          0            NaN              1440   \n",
       "1                          1         1024.0              1080   \n",
       "2                          1         1024.0              1080   \n",
       "3                          1         1024.0              1080   \n",
       "4                          0            NaN              1080   \n",
       "\n",
       "   resolution_height  \n",
       "0               3216  \n",
       "1               2412  \n",
       "2               2408  \n",
       "3               2400  \n",
       "4               2412  "
      ]
     },
     "execution_count": 2,
     "metadata": {},
     "output_type": "execute_result"
    }
   ],
   "source": [
    "df = pd.read_csv(\"Smartphone.csv\")\n",
    "df.head()"
   ]
  },
  {
   "cell_type": "markdown",
   "id": "929eef0a-5e6d-4c33-98ec-7560a006dacf",
   "metadata": {},
   "source": [
    "# Data Preprocessing "
   ]
  },
  {
   "cell_type": "code",
   "execution_count": 3,
   "id": "f48b604c-4cb9-481c-80fb-9867049c7338",
   "metadata": {},
   "outputs": [],
   "source": [
    "df.drop(df[df[\"price\"]==650000].index, axis=0, inplace=True)"
   ]
  },
  {
   "cell_type": "code",
   "execution_count": 4,
   "id": "492977fc-374a-47c2-b9f0-9af48d5cc9fa",
   "metadata": {},
   "outputs": [],
   "source": [
    "df.drop([\"model\", \"extended_upto\"], axis=1, inplace=True)"
   ]
  },
  {
   "cell_type": "code",
   "execution_count": 5,
   "id": "6f4e9360-a9bb-42a4-9d29-706953b54b99",
   "metadata": {},
   "outputs": [],
   "source": [
    "df[\"brand_name\"] = df[\"brand_name\"].replace({\"oneplus\":\"oppo\",\n",
    "                                             \"realme\":\"xiaomi\", \n",
    "                                             \"redmi\":\"xiaomi\",\n",
    "                                             \"poco\":\"xiaomi\"})"
   ]
  },
  {
   "cell_type": "markdown",
   "id": "0e7a87ea-33cd-499b-8cb7-26b3fbc3db14",
   "metadata": {},
   "source": [
    "### Generation of a column"
   ]
  },
  {
   "cell_type": "code",
   "execution_count": 6,
   "id": "55ac62dd-48b8-4264-91b0-93bb1f61f41b",
   "metadata": {},
   "outputs": [],
   "source": [
    "df_copy = df.copy()\n",
    "temp = df_copy.groupby([\"brand_name\"])[\"price\"].mean()\n",
    "df_copy = df_copy.merge(temp.reset_index(), how=\"left\", on=\"brand_name\")"
   ]
  },
  {
   "cell_type": "code",
   "execution_count": 7,
   "id": "dd8ec25d-c60e-46eb-8b4b-4a09b3b6d054",
   "metadata": {},
   "outputs": [],
   "source": [
    "dct = {}\n",
    "for i in range (df_copy[\"price_y\"].nunique()): \n",
    "    if df_copy[\"brand_name\"].unique()[i] not in dct:\n",
    "        dct[df_copy[\"brand_name\"].unique()[i]] = df_copy[\"price_y\"].unique()[i]"
   ]
  },
  {
   "cell_type": "code",
   "execution_count": 8,
   "id": "dc575961-92a3-4244-8d54-1e163d05359c",
   "metadata": {},
   "outputs": [],
   "source": [
    "bins = [0, 25000, 50000, 130000]\n",
    "label = [\"budget_friendly\", \"middle_range\", \"expensive\"]\n",
    "df[\"category\"] = pd.cut(df_copy[\"price_y\"], bins, right=False, labels=label)"
   ]
  },
  {
   "cell_type": "code",
   "execution_count": 9,
   "id": "cae733de-f3c5-426b-916c-7753b78bcf6b",
   "metadata": {},
   "outputs": [],
   "source": [
    "df[\"fast_charging_available\"] = df[\"fast_charging_available\"].astype(\"bool\")\n",
    "df[\"extended_memory_available\"] = df[\"extended_memory_available\"].astype(\"bool\")\n",
    "df[\"category\"] = df[\"category\"].astype(\"object\")"
   ]
  },
  {
   "cell_type": "code",
   "execution_count": 10,
   "id": "a8debae2-552b-4135-936a-4dea307f2f76",
   "metadata": {},
   "outputs": [],
   "source": [
    "num_col = df.select_dtypes(exclude=[\"object\", \"bool\"]).columns\n",
    "cat_col = df.select_dtypes(include=[\"object\", \"bool\"]).columns"
   ]
  },
  {
   "cell_type": "markdown",
   "id": "3827e9bc-1ac3-49d4-b7d7-09e8cbd45721",
   "metadata": {},
   "source": [
    "### Imputing "
   ]
  },
  {
   "cell_type": "code",
   "execution_count": 11,
   "id": "592a926e-b4f3-406e-ae3d-b9c3b22f95de",
   "metadata": {},
   "outputs": [],
   "source": [
    "imputer_mean = SimpleImputer(strategy=\"mean\")\n",
    "imputer_median = SimpleImputer(strategy=\"median\")\n",
    "imputer_mode = SimpleImputer(strategy=\"most_frequent\")\n",
    "\n",
    "df[\"rating\"] = imputer_mean.fit_transform(df[\"rating\"].values.reshape(-1, 1))\n",
    "df[\"processor_brand\"] = imputer_mode.fit_transform(df[\"processor_brand\"].values.reshape(-1, 1)).reshape(-1)\n",
    "df[\"num_cores\"] = imputer_median.fit_transform(df[\"num_cores\"].values.reshape(-1, 1))\n",
    "df[\"processor_speed\"] = imputer_mean.fit_transform(df[\"processor_speed\"].values.reshape(-1, 1))\n",
    "df[\"battery_capacity\"] = imputer_mean.fit_transform(df[\"battery_capacity\"].values.reshape(-1, 1))\n",
    "df[\"fast_charging\"] = imputer_mean.fit_transform(df[\"fast_charging\"].values.reshape(-1, 1))\n",
    "df[\"num_front_cameras\"] = imputer_median.fit_transform(df[\"num_front_cameras\"].values.reshape(-1, 1))\n",
    "df[\"os\"] = imputer_mode.fit_transform(df[\"os\"].values.reshape(-1, 1)).reshape(-1)\n",
    "df[\"primary_camera_front\"] = imputer_median.fit_transform(df[\"primary_camera_front\"].values.reshape(-1, 1))"
   ]
  },
  {
   "cell_type": "markdown",
   "id": "8527e2de-03cd-4c82-b8d1-480d10e1bcd8",
   "metadata": {},
   "source": [
    "### Encoding "
   ]
  },
  {
   "cell_type": "code",
   "execution_count": 12,
   "id": "fe009159-426d-467d-a7b6-4c1aff4b18fb",
   "metadata": {},
   "outputs": [],
   "source": [
    "df_encoded = pd.get_dummies(df, drop_first=True, dtype=\"int32\")"
   ]
  },
  {
   "cell_type": "code",
   "execution_count": 13,
   "id": "1d45bfa0-c462-431a-a806-709b59d44d12",
   "metadata": {},
   "outputs": [],
   "source": [
    "data = df_encoded[['rating', 'processor_speed', 'fast_charging', 'ram_capacity', 'internal_memory',\n",
    "                'screen_size', 'primary_camera_front', 'resolution_height', 'has_nfc', 'os_ios', \"price\"]]"
   ]
  },
  {
   "cell_type": "code",
   "execution_count": 14,
   "id": "b223d118-8de3-4696-9f99-fbd1e1e55f28",
   "metadata": {},
   "outputs": [],
   "source": [
    "data[\"has_nfc\"] = data[\"has_nfc\"].astype(\"int64\")"
   ]
  },
  {
   "cell_type": "code",
   "execution_count": 15,
   "id": "99c62148-9922-482f-bab0-4ce78d738193",
   "metadata": {},
   "outputs": [],
   "source": [
    "# test = data.iloc[-10:]\n",
    "# data = data.iloc[:-10]"
   ]
  },
  {
   "cell_type": "markdown",
   "id": "6e7cd100-17bc-4d92-9b15-200a7101beaa",
   "metadata": {},
   "source": [
    "### Scaling "
   ]
  },
  {
   "cell_type": "code",
   "execution_count": 15,
   "id": "32b022e6-15ff-4225-bb1c-a3e08dbc8aad",
   "metadata": {},
   "outputs": [],
   "source": [
    "test = data.iloc[np.arange(0, df.shape[0], 150)]\n",
    "data = data.drop(np.arange(0, df.shape[0], 150), axis=0)"
   ]
  },
  {
   "cell_type": "code",
   "execution_count": 17,
   "id": "d46f9074-814e-4fa2-9a31-f484c2a43816",
   "metadata": {},
   "outputs": [],
   "source": [
    "# ss = StandardScaler()\n",
    "# data[[\"rating\", \"processor_speed\", \"fast_charging\", \"ram_capacity\",\n",
    "#         \"internal_memory\", \"screen_size\", \"primary_camera_front\", \"resolution_height\"]] = ss.fit_transform(data[[\"rating\", \"processor_speed\", \"fast_charging\", \"ram_capacity\",\n",
    "#         \"internal_memory\", \"screen_size\", \"primary_camera_front\", \"resolution_height\"]])"
   ]
  },
  {
   "cell_type": "code",
   "execution_count": 18,
   "id": "21b4481a-6140-4b17-b00b-0e930083f964",
   "metadata": {},
   "outputs": [],
   "source": [
    "# test[[\"rating\", \"processor_speed\", \"fast_charging\", \"ram_capacity\",\n",
    "#         \"internal_memory\", \"screen_size\", \"primary_camera_front\", \"resolution_height\"]] = ss.fit_transform(test[[\"rating\", \"processor_speed\", \"fast_charging\", \"ram_capacity\",\n",
    "#         \"internal_memory\", \"screen_size\", \"primary_camera_front\", \"resolution_height\"]])"
   ]
  },
  {
   "cell_type": "code",
   "execution_count": 16,
   "id": "4584517c-a45a-427f-a9ff-31862392891e",
   "metadata": {},
   "outputs": [],
   "source": [
    "test_y = test[\"price\"]\n",
    "test_x = test.drop(\"price\", axis=1)"
   ]
  },
  {
   "cell_type": "code",
   "execution_count": 17,
   "id": "c4086448-a80d-4dc3-b44c-156fa378b58a",
   "metadata": {},
   "outputs": [],
   "source": [
    "y = data[\"price\"]\n",
    "X = data.drop(\"price\", axis=1)"
   ]
  },
  {
   "cell_type": "markdown",
   "id": "3f3b52f4-e311-4c87-8bd6-6a367233e52c",
   "metadata": {},
   "source": [
    "### Splitting the Training and Test Sets"
   ]
  },
  {
   "cell_type": "code",
   "execution_count": 18,
   "id": "585fab3e-9382-450b-a5df-88067bb62a56",
   "metadata": {},
   "outputs": [],
   "source": [
    "X_train, X_test, y_train, y_test = train_test_split(X, y, train_size=0.75, random_state=42)"
   ]
  },
  {
   "cell_type": "code",
   "execution_count": 19,
   "id": "0c01796c-a029-4c5a-b5d1-7e2274ca8c3e",
   "metadata": {},
   "outputs": [
    {
     "data": {
      "text/html": [
       "<div>\n",
       "<style scoped>\n",
       "    .dataframe tbody tr th:only-of-type {\n",
       "        vertical-align: middle;\n",
       "    }\n",
       "\n",
       "    .dataframe tbody tr th {\n",
       "        vertical-align: top;\n",
       "    }\n",
       "\n",
       "    .dataframe thead th {\n",
       "        text-align: right;\n",
       "    }\n",
       "</style>\n",
       "<table border=\"1\" class=\"dataframe\">\n",
       "  <thead>\n",
       "    <tr style=\"text-align: right;\">\n",
       "      <th></th>\n",
       "      <th>rating</th>\n",
       "      <th>processor_speed</th>\n",
       "      <th>fast_charging</th>\n",
       "      <th>ram_capacity</th>\n",
       "      <th>internal_memory</th>\n",
       "      <th>screen_size</th>\n",
       "      <th>primary_camera_front</th>\n",
       "      <th>resolution_height</th>\n",
       "      <th>has_nfc</th>\n",
       "      <th>os_ios</th>\n",
       "    </tr>\n",
       "  </thead>\n",
       "  <tbody>\n",
       "    <tr>\n",
       "      <th>854</th>\n",
       "      <td>84.0</td>\n",
       "      <td>2.05</td>\n",
       "      <td>120.000000</td>\n",
       "      <td>8.0</td>\n",
       "      <td>128.0</td>\n",
       "      <td>6.70</td>\n",
       "      <td>16.0</td>\n",
       "      <td>2400</td>\n",
       "      <td>0</td>\n",
       "      <td>0</td>\n",
       "    </tr>\n",
       "    <tr>\n",
       "      <th>358</th>\n",
       "      <td>84.0</td>\n",
       "      <td>2.40</td>\n",
       "      <td>33.000000</td>\n",
       "      <td>8.0</td>\n",
       "      <td>128.0</td>\n",
       "      <td>6.40</td>\n",
       "      <td>16.0</td>\n",
       "      <td>2400</td>\n",
       "      <td>0</td>\n",
       "      <td>0</td>\n",
       "    </tr>\n",
       "    <tr>\n",
       "      <th>462</th>\n",
       "      <td>70.0</td>\n",
       "      <td>1.60</td>\n",
       "      <td>10.000000</td>\n",
       "      <td>4.0</td>\n",
       "      <td>64.0</td>\n",
       "      <td>6.52</td>\n",
       "      <td>8.0</td>\n",
       "      <td>1600</td>\n",
       "      <td>0</td>\n",
       "      <td>0</td>\n",
       "    </tr>\n",
       "    <tr>\n",
       "      <th>532</th>\n",
       "      <td>89.0</td>\n",
       "      <td>3.00</td>\n",
       "      <td>65.000000</td>\n",
       "      <td>8.0</td>\n",
       "      <td>128.0</td>\n",
       "      <td>6.80</td>\n",
       "      <td>16.0</td>\n",
       "      <td>2480</td>\n",
       "      <td>1</td>\n",
       "      <td>0</td>\n",
       "    </tr>\n",
       "    <tr>\n",
       "      <th>470</th>\n",
       "      <td>86.0</td>\n",
       "      <td>2.96</td>\n",
       "      <td>25.000000</td>\n",
       "      <td>6.0</td>\n",
       "      <td>128.0</td>\n",
       "      <td>6.71</td>\n",
       "      <td>10.0</td>\n",
       "      <td>3200</td>\n",
       "      <td>1</td>\n",
       "      <td>0</td>\n",
       "    </tr>\n",
       "    <tr>\n",
       "      <th>...</th>\n",
       "      <td>...</td>\n",
       "      <td>...</td>\n",
       "      <td>...</td>\n",
       "      <td>...</td>\n",
       "      <td>...</td>\n",
       "      <td>...</td>\n",
       "      <td>...</td>\n",
       "      <td>...</td>\n",
       "      <td>...</td>\n",
       "      <td>...</td>\n",
       "    </tr>\n",
       "    <tr>\n",
       "      <th>107</th>\n",
       "      <td>86.0</td>\n",
       "      <td>3.00</td>\n",
       "      <td>25.000000</td>\n",
       "      <td>8.0</td>\n",
       "      <td>128.0</td>\n",
       "      <td>6.10</td>\n",
       "      <td>10.0</td>\n",
       "      <td>2340</td>\n",
       "      <td>1</td>\n",
       "      <td>0</td>\n",
       "    </tr>\n",
       "    <tr>\n",
       "      <th>272</th>\n",
       "      <td>77.0</td>\n",
       "      <td>2.20</td>\n",
       "      <td>18.000000</td>\n",
       "      <td>6.0</td>\n",
       "      <td>128.0</td>\n",
       "      <td>6.58</td>\n",
       "      <td>5.0</td>\n",
       "      <td>2408</td>\n",
       "      <td>0</td>\n",
       "      <td>0</td>\n",
       "    </tr>\n",
       "    <tr>\n",
       "      <th>867</th>\n",
       "      <td>64.0</td>\n",
       "      <td>2.30</td>\n",
       "      <td>46.126138</td>\n",
       "      <td>3.0</td>\n",
       "      <td>32.0</td>\n",
       "      <td>6.52</td>\n",
       "      <td>5.0</td>\n",
       "      <td>1600</td>\n",
       "      <td>0</td>\n",
       "      <td>0</td>\n",
       "    </tr>\n",
       "    <tr>\n",
       "      <th>439</th>\n",
       "      <td>80.0</td>\n",
       "      <td>2.00</td>\n",
       "      <td>15.000000</td>\n",
       "      <td>6.0</td>\n",
       "      <td>128.0</td>\n",
       "      <td>6.40</td>\n",
       "      <td>20.0</td>\n",
       "      <td>2400</td>\n",
       "      <td>0</td>\n",
       "      <td>0</td>\n",
       "    </tr>\n",
       "    <tr>\n",
       "      <th>103</th>\n",
       "      <td>80.0</td>\n",
       "      <td>2.40</td>\n",
       "      <td>33.000000</td>\n",
       "      <td>8.0</td>\n",
       "      <td>128.0</td>\n",
       "      <td>6.60</td>\n",
       "      <td>8.0</td>\n",
       "      <td>2408</td>\n",
       "      <td>0</td>\n",
       "      <td>0</td>\n",
       "    </tr>\n",
       "  </tbody>\n",
       "</table>\n",
       "<p>729 rows × 10 columns</p>\n",
       "</div>"
      ],
      "text/plain": [
       "     rating  processor_speed  fast_charging  ram_capacity  internal_memory  \\\n",
       "854    84.0             2.05     120.000000           8.0            128.0   \n",
       "358    84.0             2.40      33.000000           8.0            128.0   \n",
       "462    70.0             1.60      10.000000           4.0             64.0   \n",
       "532    89.0             3.00      65.000000           8.0            128.0   \n",
       "470    86.0             2.96      25.000000           6.0            128.0   \n",
       "..      ...              ...            ...           ...              ...   \n",
       "107    86.0             3.00      25.000000           8.0            128.0   \n",
       "272    77.0             2.20      18.000000           6.0            128.0   \n",
       "867    64.0             2.30      46.126138           3.0             32.0   \n",
       "439    80.0             2.00      15.000000           6.0            128.0   \n",
       "103    80.0             2.40      33.000000           8.0            128.0   \n",
       "\n",
       "     screen_size  primary_camera_front  resolution_height  has_nfc  os_ios  \n",
       "854         6.70                  16.0               2400        0       0  \n",
       "358         6.40                  16.0               2400        0       0  \n",
       "462         6.52                   8.0               1600        0       0  \n",
       "532         6.80                  16.0               2480        1       0  \n",
       "470         6.71                  10.0               3200        1       0  \n",
       "..           ...                   ...                ...      ...     ...  \n",
       "107         6.10                  10.0               2340        1       0  \n",
       "272         6.58                   5.0               2408        0       0  \n",
       "867         6.52                   5.0               1600        0       0  \n",
       "439         6.40                  20.0               2400        0       0  \n",
       "103         6.60                   8.0               2408        0       0  \n",
       "\n",
       "[729 rows x 10 columns]"
      ]
     },
     "execution_count": 19,
     "metadata": {},
     "output_type": "execute_result"
    }
   ],
   "source": [
    "X_train"
   ]
  },
  {
   "cell_type": "markdown",
   "id": "55de72c7-e076-4748-a426-af7a42e3b861",
   "metadata": {},
   "source": [
    "# Model Development "
   ]
  },
  {
   "cell_type": "code",
   "execution_count": 23,
   "id": "7a6d7f90-9c05-4fe1-b5a2-64eefa67ef11",
   "metadata": {},
   "outputs": [],
   "source": [
    "# parameters_knn = {\"n_neighbors\": [5, 10, 15, 20],\n",
    "#                  \"weights\": [\"uniform\", \"distance\"],\n",
    "#                  \"algorithm\": [\"auto\", \"ball_tree\", \"kd_tree\", \"brute\"],\n",
    "#                  \"leaf_size\": [20, 30, 40]}\n",
    "# gscv_knn = GridSearchCV(KNeighborsRegressor(), param_grid=parameters_knn, n_jobs=-1)"
   ]
  },
  {
   "cell_type": "code",
   "execution_count": 24,
   "id": "1e0a543c-e759-4f63-b32c-f4a64bdd0bc2",
   "metadata": {},
   "outputs": [],
   "source": [
    "# gscv_knn.fit(X_train, y_train)"
   ]
  },
  {
   "cell_type": "code",
   "execution_count": 25,
   "id": "87b31816-9479-4645-9fb9-af812bdc2c8e",
   "metadata": {},
   "outputs": [],
   "source": [
    "# gscv_knn.best_params_"
   ]
  },
  {
   "cell_type": "code",
   "execution_count": 20,
   "id": "aadea3aa-26a9-40f1-a5b2-201dd84b8862",
   "metadata": {},
   "outputs": [
    {
     "data": {
      "text/html": [
       "<style>#sk-container-id-1 {color: black;}#sk-container-id-1 pre{padding: 0;}#sk-container-id-1 div.sk-toggleable {background-color: white;}#sk-container-id-1 label.sk-toggleable__label {cursor: pointer;display: block;width: 100%;margin-bottom: 0;padding: 0.3em;box-sizing: border-box;text-align: center;}#sk-container-id-1 label.sk-toggleable__label-arrow:before {content: \"▸\";float: left;margin-right: 0.25em;color: #696969;}#sk-container-id-1 label.sk-toggleable__label-arrow:hover:before {color: black;}#sk-container-id-1 div.sk-estimator:hover label.sk-toggleable__label-arrow:before {color: black;}#sk-container-id-1 div.sk-toggleable__content {max-height: 0;max-width: 0;overflow: hidden;text-align: left;background-color: #f0f8ff;}#sk-container-id-1 div.sk-toggleable__content pre {margin: 0.2em;color: black;border-radius: 0.25em;background-color: #f0f8ff;}#sk-container-id-1 input.sk-toggleable__control:checked~div.sk-toggleable__content {max-height: 200px;max-width: 100%;overflow: auto;}#sk-container-id-1 input.sk-toggleable__control:checked~label.sk-toggleable__label-arrow:before {content: \"▾\";}#sk-container-id-1 div.sk-estimator input.sk-toggleable__control:checked~label.sk-toggleable__label {background-color: #d4ebff;}#sk-container-id-1 div.sk-label input.sk-toggleable__control:checked~label.sk-toggleable__label {background-color: #d4ebff;}#sk-container-id-1 input.sk-hidden--visually {border: 0;clip: rect(1px 1px 1px 1px);clip: rect(1px, 1px, 1px, 1px);height: 1px;margin: -1px;overflow: hidden;padding: 0;position: absolute;width: 1px;}#sk-container-id-1 div.sk-estimator {font-family: monospace;background-color: #f0f8ff;border: 1px dotted black;border-radius: 0.25em;box-sizing: border-box;margin-bottom: 0.5em;}#sk-container-id-1 div.sk-estimator:hover {background-color: #d4ebff;}#sk-container-id-1 div.sk-parallel-item::after {content: \"\";width: 100%;border-bottom: 1px solid gray;flex-grow: 1;}#sk-container-id-1 div.sk-label:hover label.sk-toggleable__label {background-color: #d4ebff;}#sk-container-id-1 div.sk-serial::before {content: \"\";position: absolute;border-left: 1px solid gray;box-sizing: border-box;top: 0;bottom: 0;left: 50%;z-index: 0;}#sk-container-id-1 div.sk-serial {display: flex;flex-direction: column;align-items: center;background-color: white;padding-right: 0.2em;padding-left: 0.2em;position: relative;}#sk-container-id-1 div.sk-item {position: relative;z-index: 1;}#sk-container-id-1 div.sk-parallel {display: flex;align-items: stretch;justify-content: center;background-color: white;position: relative;}#sk-container-id-1 div.sk-item::before, #sk-container-id-1 div.sk-parallel-item::before {content: \"\";position: absolute;border-left: 1px solid gray;box-sizing: border-box;top: 0;bottom: 0;left: 50%;z-index: -1;}#sk-container-id-1 div.sk-parallel-item {display: flex;flex-direction: column;z-index: 1;position: relative;background-color: white;}#sk-container-id-1 div.sk-parallel-item:first-child::after {align-self: flex-end;width: 50%;}#sk-container-id-1 div.sk-parallel-item:last-child::after {align-self: flex-start;width: 50%;}#sk-container-id-1 div.sk-parallel-item:only-child::after {width: 0;}#sk-container-id-1 div.sk-dashed-wrapped {border: 1px dashed gray;margin: 0 0.4em 0.5em 0.4em;box-sizing: border-box;padding-bottom: 0.4em;background-color: white;}#sk-container-id-1 div.sk-label label {font-family: monospace;font-weight: bold;display: inline-block;line-height: 1.2em;}#sk-container-id-1 div.sk-label-container {text-align: center;}#sk-container-id-1 div.sk-container {/* jupyter's `normalize.less` sets `[hidden] { display: none; }` but bootstrap.min.css set `[hidden] { display: none !important; }` so we also need the `!important` here to be able to override the default hidden behavior on the sphinx rendered scikit-learn.org. See: https://github.com/scikit-learn/scikit-learn/issues/21755 */display: inline-block !important;position: relative;}#sk-container-id-1 div.sk-text-repr-fallback {display: none;}</style><div id=\"sk-container-id-1\" class=\"sk-top-container\"><div class=\"sk-text-repr-fallback\"><pre>KNeighborsRegressor(algorithm=&#x27;ball_tree&#x27;, leaf_size=40, n_neighbors=10,\n",
       "                    weights=&#x27;distance&#x27;)</pre><b>In a Jupyter environment, please rerun this cell to show the HTML representation or trust the notebook. <br />On GitHub, the HTML representation is unable to render, please try loading this page with nbviewer.org.</b></div><div class=\"sk-container\" hidden><div class=\"sk-item\"><div class=\"sk-estimator sk-toggleable\"><input class=\"sk-toggleable__control sk-hidden--visually\" id=\"sk-estimator-id-1\" type=\"checkbox\" checked><label for=\"sk-estimator-id-1\" class=\"sk-toggleable__label sk-toggleable__label-arrow\">KNeighborsRegressor</label><div class=\"sk-toggleable__content\"><pre>KNeighborsRegressor(algorithm=&#x27;ball_tree&#x27;, leaf_size=40, n_neighbors=10,\n",
       "                    weights=&#x27;distance&#x27;)</pre></div></div></div></div></div>"
      ],
      "text/plain": [
       "KNeighborsRegressor(algorithm='ball_tree', leaf_size=40, n_neighbors=10,\n",
       "                    weights='distance')"
      ]
     },
     "execution_count": 20,
     "metadata": {},
     "output_type": "execute_result"
    }
   ],
   "source": [
    "knn = KNeighborsRegressor(n_neighbors=10, weights=\"distance\", leaf_size=40, algorithm=\"ball_tree\")\n",
    "knn.fit(X_train, y_train)"
   ]
  },
  {
   "cell_type": "code",
   "execution_count": 21,
   "id": "4c41c74c-f943-469a-8a5c-1fc12b1c73ab",
   "metadata": {},
   "outputs": [
    {
     "data": {
      "text/plain": [
       "0.7443261512940804"
      ]
     },
     "execution_count": 21,
     "metadata": {},
     "output_type": "execute_result"
    }
   ],
   "source": [
    "pr = knn.predict(X_test)\n",
    "r2_score(y_test, pr)"
   ]
  },
  {
   "cell_type": "code",
   "execution_count": 22,
   "id": "505b9004-3cfa-4581-8c51-790e7921ce6b",
   "metadata": {},
   "outputs": [],
   "source": [
    "pr_1 = knn.predict(test_x)"
   ]
  },
  {
   "cell_type": "code",
   "execution_count": 23,
   "id": "c4542ae2-bbe3-4e09-82aa-87a315da11a1",
   "metadata": {},
   "outputs": [
    {
     "data": {
      "text/plain": [
       "0.8342569587404735"
      ]
     },
     "execution_count": 23,
     "metadata": {},
     "output_type": "execute_result"
    }
   ],
   "source": [
    "r2_score(test_y, pr_1)"
   ]
  },
  {
   "cell_type": "code",
   "execution_count": 24,
   "id": "6b14bbc7-dcd1-4b8b-9a2c-499cf95664f7",
   "metadata": {},
   "outputs": [
    {
     "data": {
      "text/html": [
       "<div>\n",
       "<style scoped>\n",
       "    .dataframe tbody tr th:only-of-type {\n",
       "        vertical-align: middle;\n",
       "    }\n",
       "\n",
       "    .dataframe tbody tr th {\n",
       "        vertical-align: top;\n",
       "    }\n",
       "\n",
       "    .dataframe thead th {\n",
       "        text-align: right;\n",
       "    }\n",
       "</style>\n",
       "<table border=\"1\" class=\"dataframe\">\n",
       "  <thead>\n",
       "    <tr style=\"text-align: right;\">\n",
       "      <th></th>\n",
       "      <th>Actual</th>\n",
       "      <th>Predicted</th>\n",
       "    </tr>\n",
       "  </thead>\n",
       "  <tbody>\n",
       "    <tr>\n",
       "      <th>0</th>\n",
       "      <td>54999</td>\n",
       "      <td>69752.933312</td>\n",
       "    </tr>\n",
       "    <tr>\n",
       "      <th>150</th>\n",
       "      <td>19988</td>\n",
       "      <td>13807.430626</td>\n",
       "    </tr>\n",
       "    <tr>\n",
       "      <th>300</th>\n",
       "      <td>6299</td>\n",
       "      <td>6136.109663</td>\n",
       "    </tr>\n",
       "    <tr>\n",
       "      <th>451</th>\n",
       "      <td>7999</td>\n",
       "      <td>7999.000000</td>\n",
       "    </tr>\n",
       "    <tr>\n",
       "      <th>601</th>\n",
       "      <td>27999</td>\n",
       "      <td>25743.173884</td>\n",
       "    </tr>\n",
       "    <tr>\n",
       "      <th>751</th>\n",
       "      <td>24990</td>\n",
       "      <td>24990.000000</td>\n",
       "    </tr>\n",
       "    <tr>\n",
       "      <th>901</th>\n",
       "      <td>19999</td>\n",
       "      <td>19999.000000</td>\n",
       "    </tr>\n",
       "  </tbody>\n",
       "</table>\n",
       "</div>"
      ],
      "text/plain": [
       "     Actual     Predicted\n",
       "0     54999  69752.933312\n",
       "150   19988  13807.430626\n",
       "300    6299   6136.109663\n",
       "451    7999   7999.000000\n",
       "601   27999  25743.173884\n",
       "751   24990  24990.000000\n",
       "901   19999  19999.000000"
      ]
     },
     "execution_count": 24,
     "metadata": {},
     "output_type": "execute_result"
    }
   ],
   "source": [
    "compare = pd.DataFrame()\n",
    "compare[\"Actual\"] = test_y\n",
    "compare[\"Predicted\"] = pr_1\n",
    "compare"
   ]
  },
  {
   "cell_type": "code",
   "execution_count": 25,
   "id": "f6f66239-c6b7-4ac1-898f-257c096f0240",
   "metadata": {},
   "outputs": [],
   "source": [
    "rating = 89\n",
    "processor_speed = 3.2\n",
    "fast_charging = 100\n",
    "ram_capacity = 6\n",
    "internal_memory = 128\n",
    "screen_size = 6.7\n",
    "primary_camera_front = 16\n",
    "resolution_height = 3216\n",
    "has_nfc = 1\n",
    "os_ios = 1 "
   ]
  },
  {
   "cell_type": "code",
   "execution_count": 26,
   "id": "11b45fa3",
   "metadata": {},
   "outputs": [],
   "source": [
    "test = np.array([rating, processor_speed, fast_charging, ram_capacity, internal_memory,\n",
    "                     screen_size, primary_camera_front, resolution_height, has_nfc, os_ios]).reshape(1, -1)"
   ]
  },
  {
   "cell_type": "code",
   "execution_count": 27,
   "id": "554d3d24",
   "metadata": {},
   "outputs": [
    {
     "data": {
      "text/plain": [
       "array([50884.91290382])"
      ]
     },
     "execution_count": 27,
     "metadata": {},
     "output_type": "execute_result"
    }
   ],
   "source": [
    "knn.predict(test)"
   ]
  },
  {
   "cell_type": "code",
   "execution_count": null,
   "id": "852a13d4",
   "metadata": {},
   "outputs": [],
   "source": []
  }
 ],
 "metadata": {
  "kernelspec": {
   "display_name": "Python 3 (ipykernel)",
   "language": "python",
   "name": "python3"
  },
  "language_info": {
   "codemirror_mode": {
    "name": "ipython",
    "version": 3
   },
   "file_extension": ".py",
   "mimetype": "text/x-python",
   "name": "python",
   "nbconvert_exporter": "python",
   "pygments_lexer": "ipython3",
   "version": "3.11.4"
  }
 },
 "nbformat": 4,
 "nbformat_minor": 5
}
